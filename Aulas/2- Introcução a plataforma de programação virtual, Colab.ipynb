{
 "cells": [
  {
   "cell_type": "markdown",
   "id": "632bd20d",
   "metadata": {},
   "source": [
    "# Plataforma de programação virtual\n",
    "\n",
    "![Logo Colab](https://github.com/user-attachments/assets/5252c830-7698-44f0-9526-3623649720e5)"
   ]
  },
  {
   "cell_type": "markdown",
   "id": "0acf850f",
   "metadata": {},
   "source": [
    "## 1º passo\n",
    "\n",
    "<video controls src=\"https://github.com/user-attachments/assets/7be62982-d069-4dbd-a9fd-cf6e1e14ea77\" title=\"Title\"></video>\n",
    "\n",
    "\n",
    "\n"
   ]
  },
  {
   "cell_type": "markdown",
   "id": "17f71d02",
   "metadata": {},
   "source": [
    "## 2º passo\n",
    "\n",
    "<video controls src=\"https://github.com/user-attachments/assets/0774fb8b-6762-4c30-9976-1b53cda4d522\" title=\"Title\"></video>"
   ]
  },
  {
   "cell_type": "markdown",
   "id": "5dd0cc40",
   "metadata": {},
   "source": [
    "## 3º passo\n",
    "\n",
    "<video controls src=\"https://github.com/user-attachments/assets/415993e0-91bc-40ee-bf75-1ab6f96e5ae9\" title=\"Title\"></video>"
   ]
  },
  {
   "cell_type": "markdown",
   "id": "48bfd6fe",
   "metadata": {},
   "source": [
    "## 4º passo\n",
    "\n",
    "<video controls src=\"https://github.com/user-attachments/assets/a75f7f51-3c42-4d8c-b3b1-7ab0273b11d2\" title=\"Title\"></video>"
   ]
  }
 ],
 "metadata": {
  "language_info": {
   "name": "python"
  }
 },
 "nbformat": 4,
 "nbformat_minor": 5
}
