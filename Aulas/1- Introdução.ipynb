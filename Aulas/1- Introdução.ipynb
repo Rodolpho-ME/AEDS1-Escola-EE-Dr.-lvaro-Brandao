{
 "cells": [
  {
   "cell_type": "markdown",
   "id": "f79a3941",
   "metadata": {},
   "source": [
    "# Introdução ao Conteudo\n",
    "\n",
    "![Logo UFSJ](https://github.com/user-attachments/assets/bddb0db7-d0d2-49ed-a867-17a5977d9dee)\n",
    "\n",
    "\n"
   ]
  },
  {
   "cell_type": "markdown",
   "id": "9bc4874f",
   "metadata": {},
   "source": [
    "## Topicos que serão passados:\n",
    "   #### 1. Introdução ao Colab\n",
    "   #### 2. Introdução de variavel no python\n",
    "   #### 3. Aritimética no python\n",
    "   #### 4. Leitura de dados\n",
    "   #### 5. Sinais de comparação\n",
    "   #### 6. If\n",
    "   #### 7. Elif\n",
    "   #### 8. Else\n",
    "   #### 9. For\n",
    "\n",
    "##"
   ]
  },
  {
   "cell_type": "markdown",
   "id": "ea83c6a9",
   "metadata": {},
   "source": [
    "## Oportunidades da area \n",
    "\n",
    "#### 1. Inteligência Artificial\n",
    "\n",
    "#### 2. Ciência de Dados \n",
    "\n",
    "#### 3. Cibersegurança\n",
    "\n",
    "#### 4. Desenvolvimento Web & Mobile\n",
    "\n",
    "#### 5. Automação & RPA (Robotic Process Automation)\n",
    "\n",
    "#### 6. Realidade Virtual (VR) e Realidade Aumentada (AR)\n",
    "\n",
    "#### 7. Desenvolvimento de Games \n"
   ]
  }
 ],
 "metadata": {
  "language_info": {
   "name": "python"
  }
 },
 "nbformat": 4,
 "nbformat_minor": 5
}
